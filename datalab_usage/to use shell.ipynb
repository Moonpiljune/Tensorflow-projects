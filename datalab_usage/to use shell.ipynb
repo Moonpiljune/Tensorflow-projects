{
 "cells": [
  {
   "cell_type": "code",
   "execution_count": 3,
   "metadata": {
    "collapsed": false
   },
   "outputs": [
    {
     "name": "stdout",
     "output_type": "stream",
     "text": [
      "Writing reference.txt\n"
     ]
    }
   ],
   "source": [
    "%%writefile reference.txt\n",
    "\n",
    "CloudML Prediction API \n",
    "https://github.com/GoogleCloudPlatform/cloudml-dist-mnist-example\n",
    "\n",
    "deploy document \n",
    "https://cloud.google.com/ml-engine/docs/concepts/prediction-overview\n",
    "\n",
    "exmaple \n",
    "https://github.com/GoogleCloudPlatform/training-data-analyst/blob/master/blogs/babyweight/babyweight.ipynb\n",
    "\n",
    "cloudml usage\n",
    "http://liufuyang.github.io/2017/04/02/just-another-tensorflow-beginner-guide-4.html"
   ]
  }
 ],
 "metadata": {
  "kernelspec": {
   "display_name": "Python 2",
   "language": "python",
   "name": "python2"
  },
  "language_info": {
   "codemirror_mode": {
    "name": "ipython",
    "version": 2
   },
   "file_extension": ".py",
   "mimetype": "text/x-python",
   "name": "python",
   "nbconvert_exporter": "python",
   "pygments_lexer": "ipython2",
   "version": "2.7.9"
  }
 },
 "nbformat": 4,
 "nbformat_minor": 2
}
