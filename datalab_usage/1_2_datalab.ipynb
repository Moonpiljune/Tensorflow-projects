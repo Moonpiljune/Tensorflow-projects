{
 "cells": [
  {
   "cell_type": "markdown",
   "metadata": {},
   "source": [
    "# Datalab Usage part.2"
   ]
  },
  {
   "cell_type": "markdown",
   "metadata": {},
   "source": [
    "Hi guys, Welcome!"
   ]
  },
  {
   "cell_type": "markdown",
   "metadata": {},
   "source": [
    "Today, we're going to design the tensorflow model with datalab and run it using the GPU"
   ]
  },
  {
   "cell_type": "markdown",
   "metadata": {},
   "source": [
    "Unfortunately, datalab does not support GPU directly."
   ]
  },
  {
   "cell_type": "markdown",
   "metadata": {},
   "source": [
    "So, we should use CloudML to run on GPU."
   ]
  },
  {
   "cell_type": "markdown",
   "metadata": {},
   "source": [
    "now, Let's see how it makes"
   ]
  },
  {
   "cell_type": "markdown",
   "metadata": {},
   "source": []
  },
  {
   "cell_type": "markdown",
   "metadata": {},
   "source": [
    "first, I prepare the simple code in tensorflow"
   ]
  },
  {
   "cell_type": "code",
   "execution_count": 13,
   "metadata": {
    "collapsed": false
   },
   "outputs": [
    {
     "name": "stdout",
     "output_type": "stream",
     "text": [
      "hello datalab!!\n"
     ]
    }
   ],
   "source": [
    "import tensorflow as tf\n",
    "\n",
    "say_hello = tf.constant(\"hello datalab!!\")\n",
    "\n",
    "with tf.Session() as sess:\n",
    "  print(sess.run(say_hello))\n",
    "    "
   ]
  },
  {
   "cell_type": "markdown",
   "metadata": {},
   "source": [
    "You can put the shell command line with \"%bash\" like this "
   ]
  },
  {
   "cell_type": "code",
   "execution_count": 10,
   "metadata": {
    "collapsed": false
   },
   "outputs": [
    {
     "name": "stdout",
     "output_type": "stream",
     "text": [
      "1_2_datalab.ipynb\n",
      "1_2_datalab.ipynb\n",
      "test_dir\n"
     ]
    }
   ],
   "source": [
    "%bash\n",
    "ls\n",
    "mkdir test_dir\n",
    "ls"
   ]
  },
  {
   "cell_type": "markdown",
   "metadata": {},
   "source": [
    "See? we'll use this. check the directory you just created, then you can remove it if you want"
   ]
  },
  {
   "cell_type": "code",
   "execution_count": 11,
   "metadata": {
    "collapsed": false
   },
   "outputs": [
    {
     "name": "stdout",
     "output_type": "stream",
     "text": [
      "1_2_datalab.ipynb\n"
     ]
    }
   ],
   "source": [
    "%bash\n",
    "rm -rf test_dir\n",
    "ls"
   ]
  },
  {
   "cell_type": "markdown",
   "metadata": {},
   "source": [
    "Once, you need a python source file to use CloudML not .ipynb"
   ]
  },
  {
   "cell_type": "markdown",
   "metadata": {},
   "source": [
    "Convert .ipynb to .py in this way. click Notebook button and select \"Convert to Python\" in menu."
   ]
  },
  {
   "cell_type": "markdown",
   "metadata": {},
   "source": [
    "<img style=\"float: left\" src=\"./Images/part2/convert1.png\" width=\"400\" />"
   ]
  },
  {
   "cell_type": "markdown",
   "metadata": {},
   "source": [
    "Then, you can see this page"
   ]
  },
  {
   "cell_type": "markdown",
   "metadata": {},
   "source": [
    "<img style=\"float: left\" src=\"./Images/part2/convert2.png\" width=800 />"
   ]
  },
  {
   "cell_type": "markdown",
   "metadata": {},
   "source": [
    "you should make a module which is made of source.py to use the CloudML, but only .ipynb is created woring in datalab."
   ]
  },
  {
   "cell_type": "markdown",
   "metadata": {},
   "source": [
    "That's a reason why you should do this thing, you might feel bother."
   ]
  },
  {
   "cell_type": "markdown",
   "metadata": {},
   "source": [
    "Copy whole,"
   ]
  },
  {
   "cell_type": "markdown",
   "metadata": {},
   "source": [
    "Then, Let's create a file.py to paste this code"
   ]
  },
  {
   "cell_type": "markdown",
   "metadata": {},
   "source": [
    "I want to make the directory to put it in"
   ]
  },
  {
   "cell_type": "code",
   "execution_count": 7,
   "metadata": {
    "collapsed": false
   },
   "outputs": [],
   "source": [
    "%bash\n",
    "mkdir model"
   ]
  },
  {
   "cell_type": "code",
   "execution_count": 8,
   "metadata": {
    "collapsed": true
   },
   "outputs": [],
   "source": [
    "with open(\"model/simple_code.py\", \"w\") as f:\n",
    "  f.write(\"\")"
   ]
  },
  {
   "cell_type": "markdown",
   "metadata": {},
   "source": [
    "You see the simple_code created in model folder"
   ]
  },
  {
   "cell_type": "markdown",
   "metadata": {},
   "source": [
    "<img style=\"float: left\" src=\"./Images/part2/simplecode.png\" width=\"400\" />"
   ]
  },
  {
   "cell_type": "markdown",
   "metadata": {},
   "source": [
    "Open this file and paste the code you just copied"
   ]
  },
  {
   "cell_type": "markdown",
   "metadata": {},
   "source": [
    "Don't worry about markdowns. it would be commented out but %bash commands are not."
   ]
  },
  {
   "cell_type": "markdown",
   "metadata": {},
   "source": [
    "That's an only one thing you should be care for"
   ]
  },
  {
   "cell_type": "markdown",
   "metadata": {},
   "source": [
    "if you've done, SAVE IT!!"
   ]
  },
  {
   "cell_type": "markdown",
   "metadata": {},
   "source": [
    "<img style=\"float: left\" src=\"./Images/part2/pasted.png\" width=\"500\" />"
   ]
  },
  {
   "cell_type": "markdown",
   "metadata": {},
   "source": [
    "To run CloudML, \\__init__.py file in same path of your source file is necessary to create"
   ]
  },
  {
   "cell_type": "markdown",
   "metadata": {},
   "source": [
    "Create it and check the directory whether you've done right"
   ]
  },
  {
   "cell_type": "code",
   "execution_count": 12,
   "metadata": {
    "collapsed": false
   },
   "outputs": [],
   "source": [
    "with open(\"model/__init__.py\", \"w\") as f:\n",
    "  f.write(\"\")"
   ]
  },
  {
   "cell_type": "code",
   "execution_count": 13,
   "metadata": {
    "collapsed": false
   },
   "outputs": [
    {
     "name": "stdout",
     "output_type": "stream",
     "text": [
      "__init__.py  simple_code.py\r\n"
     ]
    }
   ],
   "source": [
    "!ls ./model/"
   ]
  },
  {
   "cell_type": "markdown",
   "metadata": {},
   "source": [
    "if nothing problem, you got ready to run CloudML"
   ]
  },
  {
   "cell_type": "markdown",
   "metadata": {},
   "source": [
    "Here's the command to run your source code on CloudML"
   ]
  },
  {
   "cell_type": "code",
   "execution_count": 58,
   "metadata": {
    "collapsed": false
   },
   "outputs": [
    {
     "name": "stdout",
     "output_type": "stream",
     "text": [
      "__init__.py  simple_code.py\r\n"
     ]
    }
   ],
   "source": [
    "!ls /content/datalab/datalab_usage/model"
   ]
  },
  {
   "cell_type": "code",
   "execution_count": 71,
   "metadata": {
    "collapsed": false
   },
   "outputs": [
    {
     "name": "stdout",
     "output_type": "stream",
     "text": [
      "jobId: first_cloudml_test\n",
      "state: QUEUED\n"
     ]
    },
    {
     "name": "stderr",
     "output_type": "stream",
     "text": [
      "Job [first_cloudml_test] submitted successfully.\n",
      "Your job is still active. You may view the status of your job with the command\n",
      "\n",
      "  $ gcloud ml-engine jobs describe first_cloudml_test\n",
      "\n",
      "or continue streaming the logs with the command\n",
      "\n",
      "  $ gcloud ml-engine jobs stream-logs first_cloudml_test\n"
     ]
    }
   ],
   "source": [
    "%bash\n",
    "JOB_NAME=first_cloudml_test\n",
    "PACKAGE_PATH=/content/datalab/datalab_usage/model\n",
    "MODULE_NAME=model.simple_code\n",
    "STAGING_BUCKET=gs://tensorflowprojects-mlengine\n",
    "REGION=europe-west1\n",
    "SCALE_TIER=BASIC_GPU\n",
    "\n",
    "gcloud ml-engine jobs submit training $JOB_NAME \\\n",
    "--package-path=$PACKAGE_PATH \\\n",
    "--module-name=$MODULE_NAME \\\n",
    "--staging-bucket=$STAGING_BUCKET \\\n",
    "--region=$REGION \\\n",
    "--scale-tier=$SCALE_TIER"
   ]
  },
  {
   "cell_type": "markdown",
   "metadata": {},
   "source": [
    "Enjoy!"
   ]
  },
  {
   "cell_type": "code",
   "execution_count": null,
   "metadata": {
    "collapsed": true
   },
   "outputs": [],
   "source": []
  }
 ],
 "metadata": {
  "kernelspec": {
   "display_name": "Python 2",
   "language": "python",
   "name": "python2"
  },
  "language_info": {
   "codemirror_mode": {
    "name": "ipython",
    "version": 2
   },
   "file_extension": ".py",
   "mimetype": "text/x-python",
   "name": "python",
   "nbconvert_exporter": "python",
   "pygments_lexer": "ipython2",
   "version": "2.7.9"
  }
 },
 "nbformat": 4,
 "nbformat_minor": 2
}
