{
 "cells": [
  {
   "cell_type": "code",
   "execution_count": 2,
   "metadata": {
    "collapsed": true
   },
   "outputs": [],
   "source": [
    "import tensorflow as tf"
   ]
  },
  {
   "cell_type": "code",
   "execution_count": null,
   "metadata": {
    "collapsed": true
   },
   "outputs": [],
   "source": [
    "w1 = tf.Variable(tf.truncated_normal(shape=(3, 3, 1, 32)), dtype=tf.float32, name=\"var1\")\n",
    "b1 = tf.Variable(tf.zeros(10, 10, 32), dtype=tf.float32, name=\"bias1\")\n",
    "conv1 = tf.nn.relu(tf.nn.conv2d(input=x, filter=w1, strides=[1, 1, 1, 1], padding=\"SAME\") + b1)\n",
    "pool1 = tf.nn.max_pool(conv1, (2, 2), [1, 2, 2, 1], padding=\"SAME\")\n",
    "\n",
    "\n",
    "w2 = tf.Variable(tf.truncated_normal(shape=(3, 3, 32, 64)), dtype=tf.float32, name=\"var2\")\n",
    "b2 = tf.Variable(tf.zeros(10, 10, 64), dtype=tf.float32, name=\"bida2\")\n",
    "conv2 = tf.nn.relu(tf.nn.conv2d(input=pool, filter=w2, strides=[1, 1, 1, 1], padding=\"SAME\") + b2)\n",
    "\n",
    "\n"
   ]
  },
  {
   "cell_type": "code",
   "execution_count": null,
   "metadata": {
    "collapsed": true
   },
   "outputs": [],
   "source": [
    "conv1 = tf.layers.conv2d(x, 32, 3)\n",
    "conv2 = tf.layers.conv2d(conv1, 64, 3)\n",
    "\n"
   ]
  }
 ],
 "metadata": {
  "kernelspec": {
   "display_name": "Python 2",
   "language": "python",
   "name": "python2"
  },
  "language_info": {
   "codemirror_mode": {
    "name": "ipython",
    "version": 2
   },
   "file_extension": ".py",
   "mimetype": "text/x-python",
   "name": "python",
   "nbconvert_exporter": "python",
   "pygments_lexer": "ipython2",
   "version": "2.7.9"
  }
 },
 "nbformat": 4,
 "nbformat_minor": 2
}
